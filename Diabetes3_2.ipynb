this is one among the best model i have recently made . 
